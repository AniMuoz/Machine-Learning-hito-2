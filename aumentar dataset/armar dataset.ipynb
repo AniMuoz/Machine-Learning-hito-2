{
 "cells": [
  {
   "cell_type": "markdown",
   "metadata": {},
   "source": [
    "github utilizado para armar el dataset:\n",
    "https://github.com/bensantos/findingwaldo"
   ]
  },
  {
   "cell_type": "markdown",
   "metadata": {},
   "source": [
    "dataset: https://www.kaggle.com/datasets/hasyimabdillah/workoutexercises-images?select=barbell+biceps+curl"
   ]
  },
  {
   "cell_type": "code",
   "execution_count": 1,
   "metadata": {},
   "outputs": [],
   "source": [
    "%matplotlib inline\n",
    "#The line above is necesary to show Matplotlib's plots inside a Jupyter Notebook\n",
    "import numpy as np\n",
    "\n",
    "\n",
    "import cv2\n",
    "from matplotlib import pyplot as plt\n",
    "import glob\n",
    "import os.path\n",
    "from tqdm import tqdm\n",
    "import math\n",
    "#!pip install keras \n",
    "import keras\n",
    "from keras import layers\n",
    "from matplotlib.pyplot import figure"
   ]
  },
  {
   "cell_type": "code",
   "execution_count": 2,
   "metadata": {},
   "outputs": [],
   "source": [
    "def flipex(path, output):\n",
    "    # Crear carpeta de salida si no existe\n",
    "    os.makedirs(output, exist_ok=True)\n",
    "\n",
    "    # Por cada imagen en el directorio\n",
    "    for image_name in os.listdir(path):\n",
    "        image_path = os.path.join(path, image_name)\n",
    "        img = cv2.imread(image_path)\n",
    "\n",
    "        if img is None:\n",
    "            continue  # Saltar si no se puede leer la imagen\n",
    "\n",
    "        # Flip: vertical, horizontal, ambos\n",
    "        flips = {\n",
    "            \"v\": cv2.flip(img, 0),\n",
    "            \"h\": cv2.flip(img, 1),\n",
    "            \"vh\": cv2.flip(img, -1)\n",
    "        }\n",
    "\n",
    "        # Guardar original también si quieres\n",
    "        cv2.imwrite(os.path.join(output, f\"{os.path.splitext(image_name)[0]}_orig.jpg\"), img)\n",
    "\n",
    "        # Guardar cada imagen espejada\n",
    "        for flip_type, flipped in flips.items():\n",
    "            output_filename = f\"{os.path.splitext(image_name)[0]}_flip{flip_type}.jpg\"\n",
    "            output_path = os.path.join(output, output_filename)\n",
    "            cv2.imwrite(output_path, flipped)\n"
   ]
  },
  {
   "cell_type": "code",
   "execution_count": 3,
   "metadata": {},
   "outputs": [],
   "source": [
    "path = r\"C:\\Users\\Anibal M\\Desktop\\hito 2 ML\\dataset\\barbell biceps curl\"\n",
    "output = r\"C:\\Users\\Anibal M\\Desktop\\hito 2 ML\\aumentar dataset\\dataset+\\barbell biceps curl\"\n",
    "flipex(path, output)"
   ]
  },
  {
   "cell_type": "code",
   "execution_count": 4,
   "metadata": {},
   "outputs": [],
   "source": [
    "path = r\"C:\\Users\\Anibal M\\Desktop\\hito 2 ML\\dataset\\bench press\"\n",
    "output = r\"C:\\Users\\Anibal M\\Desktop\\hito 2 ML\\aumentar dataset\\dataset+\\bench press\"\n",
    "flipex(path, output)"
   ]
  },
  {
   "cell_type": "code",
   "execution_count": 5,
   "metadata": {},
   "outputs": [],
   "source": [
    "path = r\"C:\\Users\\Anibal M\\Desktop\\hito 2 ML\\dataset\\chest fly machine\"\n",
    "output = r\"C:\\Users\\Anibal M\\Desktop\\hito 2 ML\\aumentar dataset\\dataset+\\chest fly machine\"\n",
    "flipex(path, output)"
   ]
  },
  {
   "cell_type": "code",
   "execution_count": 6,
   "metadata": {},
   "outputs": [],
   "source": [
    "path = r\"C:\\Users\\Anibal M\\Desktop\\hito 2 ML\\dataset\\deadlift\"\n",
    "output = r\"C:\\Users\\Anibal M\\Desktop\\hito 2 ML\\aumentar dataset\\dataset+\\deadlift\"\n",
    "flipex(path, output)"
   ]
  },
  {
   "cell_type": "code",
   "execution_count": 7,
   "metadata": {},
   "outputs": [],
   "source": [
    "path = r\"C:\\Users\\Anibal M\\Desktop\\hito 2 ML\\dataset\\decline bench press\"\n",
    "output = r\"C:\\Users\\Anibal M\\Desktop\\hito 2 ML\\aumentar dataset\\dataset+\\decline bench press\"\n",
    "flipex(path, output)"
   ]
  },
  {
   "cell_type": "code",
   "execution_count": 8,
   "metadata": {},
   "outputs": [],
   "source": [
    "path = r\"C:\\Users\\Anibal M\\Desktop\\hito 2 ML\\dataset\\hammer curl\"\n",
    "output = r\"C:\\Users\\Anibal M\\Desktop\\hito 2 ML\\aumentar dataset\\dataset+\\hammer curl\"\n",
    "flipex(path, output)"
   ]
  },
  {
   "cell_type": "code",
   "execution_count": 9,
   "metadata": {},
   "outputs": [],
   "source": [
    "path = r\"C:\\Users\\Anibal M\\Desktop\\hito 2 ML\\dataset\\hip thrust\"\n",
    "output = r\"C:\\Users\\Anibal M\\Desktop\\hito 2 ML\\aumentar dataset\\dataset+\\hip thrust\"\n",
    "flipex(path, output)"
   ]
  },
  {
   "cell_type": "code",
   "execution_count": 10,
   "metadata": {},
   "outputs": [],
   "source": [
    "path = r\"C:\\Users\\Anibal M\\Desktop\\hito 2 ML\\dataset\\incline bench press\"\n",
    "output = r\"C:\\Users\\Anibal M\\Desktop\\hito 2 ML\\aumentar dataset\\dataset+\\incline bench press\"\n",
    "flipex(path, output)"
   ]
  },
  {
   "cell_type": "code",
   "execution_count": 11,
   "metadata": {},
   "outputs": [],
   "source": [
    "path = r\"C:\\Users\\Anibal M\\Desktop\\hito 2 ML\\dataset\\lat pulldown\"\n",
    "output = r\"C:\\Users\\Anibal M\\Desktop\\hito 2 ML\\aumentar dataset\\dataset+\\lat pulldown\"\n",
    "flipex(path, output)"
   ]
  },
  {
   "cell_type": "code",
   "execution_count": 12,
   "metadata": {},
   "outputs": [],
   "source": [
    "path = r\"C:\\Users\\Anibal M\\Desktop\\hito 2 ML\\dataset\\lateral raises\"\n",
    "output = r\"C:\\Users\\Anibal M\\Desktop\\hito 2 ML\\aumentar dataset\\dataset+\\lateral raises\"\n",
    "flipex(path, output)"
   ]
  },
  {
   "cell_type": "code",
   "execution_count": 13,
   "metadata": {},
   "outputs": [],
   "source": [
    "path = r\"C:\\Users\\Anibal M\\Desktop\\hito 2 ML\\dataset\\leg extension\"\n",
    "output = r\"C:\\Users\\Anibal M\\Desktop\\hito 2 ML\\aumentar dataset\\dataset+\\leg extension\"\n",
    "flipex(path, output)"
   ]
  },
  {
   "cell_type": "code",
   "execution_count": 14,
   "metadata": {},
   "outputs": [],
   "source": [
    "path = r\"C:\\Users\\Anibal M\\Desktop\\hito 2 ML\\dataset\\leg raises\"\n",
    "output = r\"C:\\Users\\Anibal M\\Desktop\\hito 2 ML\\aumentar dataset\\dataset+\\leg raises\"\n",
    "flipex(path, output)"
   ]
  },
  {
   "cell_type": "code",
   "execution_count": 15,
   "metadata": {},
   "outputs": [],
   "source": [
    "path = r\"C:\\Users\\Anibal M\\Desktop\\hito 2 ML\\dataset\\plank\"\n",
    "output = r\"C:\\Users\\Anibal M\\Desktop\\hito 2 ML\\aumentar dataset\\dataset+\\plank\"\n",
    "flipex(path, output)"
   ]
  },
  {
   "cell_type": "code",
   "execution_count": 16,
   "metadata": {},
   "outputs": [],
   "source": [
    "path = r\"C:\\Users\\Anibal M\\Desktop\\hito 2 ML\\dataset\\pull up\"\n",
    "output = r\"C:\\Users\\Anibal M\\Desktop\\hito 2 ML\\aumentar dataset\\dataset+\\pull up\"\n",
    "flipex(path, output)"
   ]
  },
  {
   "cell_type": "code",
   "execution_count": 17,
   "metadata": {},
   "outputs": [],
   "source": [
    "path = r\"C:\\Users\\Anibal M\\Desktop\\hito 2 ML\\dataset\\push up\"\n",
    "output = r\"C:\\Users\\Anibal M\\Desktop\\hito 2 ML\\aumentar dataset\\dataset+\\push up\"\n",
    "flipex(path, output)"
   ]
  },
  {
   "cell_type": "code",
   "execution_count": 18,
   "metadata": {},
   "outputs": [],
   "source": [
    "path = r\"C:\\Users\\Anibal M\\Desktop\\hito 2 ML\\dataset\\romanian deadlift\"\n",
    "output = r\"C:\\Users\\Anibal M\\Desktop\\hito 2 ML\\aumentar dataset\\dataset+\\romanian deadlift\"\n",
    "flipex(path, output)"
   ]
  },
  {
   "cell_type": "code",
   "execution_count": 19,
   "metadata": {},
   "outputs": [],
   "source": [
    "path = r\"C:\\Users\\Anibal M\\Desktop\\hito 2 ML\\dataset\\russian twist\"\n",
    "output = r\"C:\\Users\\Anibal M\\Desktop\\hito 2 ML\\aumentar dataset\\dataset+\\russian twist\"\n",
    "flipex(path, output)"
   ]
  },
  {
   "cell_type": "code",
   "execution_count": 20,
   "metadata": {},
   "outputs": [],
   "source": [
    "path = r\"C:\\Users\\Anibal M\\Desktop\\hito 2 ML\\dataset\\shoulder press\"\n",
    "output = r\"C:\\Users\\Anibal M\\Desktop\\hito 2 ML\\aumentar dataset\\dataset+\\shoulder press\"\n",
    "flipex(path, output)"
   ]
  },
  {
   "cell_type": "code",
   "execution_count": 21,
   "metadata": {},
   "outputs": [],
   "source": [
    "path = r\"C:\\Users\\Anibal M\\Desktop\\hito 2 ML\\dataset\\squat\"\n",
    "output = r\"C:\\Users\\Anibal M\\Desktop\\hito 2 ML\\aumentar dataset\\dataset+\\squat\"\n",
    "flipex(path, output)"
   ]
  },
  {
   "cell_type": "code",
   "execution_count": 22,
   "metadata": {},
   "outputs": [],
   "source": [
    "path = r\"C:\\Users\\Anibal M\\Desktop\\hito 2 ML\\dataset\\t bar row\"\n",
    "output = r\"C:\\Users\\Anibal M\\Desktop\\hito 2 ML\\aumentar dataset\\dataset+\\t bar row\"\n",
    "flipex(path, output)"
   ]
  },
  {
   "cell_type": "code",
   "execution_count": 23,
   "metadata": {},
   "outputs": [],
   "source": [
    "path = r\"C:\\Users\\Anibal M\\Desktop\\hito 2 ML\\dataset\\tricep dips\"\n",
    "output = r\"C:\\Users\\Anibal M\\Desktop\\hito 2 ML\\aumentar dataset\\dataset+\\tricep dips\"\n",
    "flipex(path, output)"
   ]
  },
  {
   "cell_type": "code",
   "execution_count": 24,
   "metadata": {},
   "outputs": [],
   "source": [
    "path = r\"C:\\Users\\Anibal M\\Desktop\\hito 2 ML\\dataset\\tricep pushdown\"\n",
    "output = r\"C:\\Users\\Anibal M\\Desktop\\hito 2 ML\\aumentar dataset\\dataset+\\tricep pushdown\"\n",
    "flipex(path, output)"
   ]
  }
 ],
 "metadata": {
  "kernelspec": {
   "display_name": "Python 3 (ipykernel)",
   "language": "python",
   "name": "python3"
  },
  "language_info": {
   "codemirror_mode": {
    "name": "ipython",
    "version": 3
   },
   "file_extension": ".py",
   "mimetype": "text/x-python",
   "name": "python",
   "nbconvert_exporter": "python",
   "pygments_lexer": "ipython3",
   "version": "3.12.7"
  }
 },
 "nbformat": 4,
 "nbformat_minor": 4
}
